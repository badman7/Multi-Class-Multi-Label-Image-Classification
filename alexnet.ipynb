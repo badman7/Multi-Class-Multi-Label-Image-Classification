{
  "nbformat": 4,
  "nbformat_minor": 0,
  "metadata": {
    "colab": {
      "name": "alexnet.ipynb",
      "provenance": []
    },
    "kernelspec": {
      "name": "python3",
      "display_name": "Python 3"
    },
    "accelerator": "GPU"
  },
  "cells": [
    {
      "cell_type": "code",
      "metadata": {
        "id": "kztl1HdX6Nny",
        "colab_type": "code",
        "colab": {
          "base_uri": "https://localhost:8080/",
          "height": 129
        },
        "outputId": "d9c8d05f-4c93-4c00-9fc9-fdee99ec8e5d"
      },
      "source": [
        "from google.colab import drive\n",
        "drive.mount('/content/drive')"
      ],
      "execution_count": 1,
      "outputs": [
        {
          "output_type": "stream",
          "text": [
            "Go to this URL in a browser: https://accounts.google.com/o/oauth2/auth?client_id=947318989803-6bn6qk8qdgf4n4g3pfee6491hc0brc4i.apps.googleusercontent.com&redirect_uri=urn%3aietf%3awg%3aoauth%3a2.0%3aoob&response_type=code&scope=email%20https%3a%2f%2fwww.googleapis.com%2fauth%2fdocs.test%20https%3a%2f%2fwww.googleapis.com%2fauth%2fdrive%20https%3a%2f%2fwww.googleapis.com%2fauth%2fdrive.photos.readonly%20https%3a%2f%2fwww.googleapis.com%2fauth%2fpeopleapi.readonly\n",
            "\n",
            "Enter your authorization code:\n",
            "··········\n",
            "Mounted at /content/drive\n"
          ],
          "name": "stdout"
        }
      ]
    },
    {
      "cell_type": "markdown",
      "metadata": {
        "id": "52bS1WXu6ghy",
        "colab_type": "text"
      },
      "source": [
        ""
      ]
    },
    {
      "cell_type": "code",
      "metadata": {
        "id": "VYCy5xc96RH8",
        "colab_type": "code",
        "colab": {
          "base_uri": "https://localhost:8080/",
          "height": 35
        },
        "outputId": "0c4752f5-dd38-4d6c-aa76-d5b797bede43"
      },
      "source": [
        "cd /content/drive/My\\ Drive"
      ],
      "execution_count": 2,
      "outputs": [
        {
          "output_type": "stream",
          "text": [
            "/content/drive/My Drive\n"
          ],
          "name": "stdout"
        }
      ]
    },
    {
      "cell_type": "code",
      "metadata": {
        "id": "MSmQCiho6heK",
        "colab_type": "code",
        "colab": {}
      },
      "source": [
        "from models import Multimobilenet,Multialexnet"
      ],
      "execution_count": 0,
      "outputs": []
    },
    {
      "cell_type": "code",
      "metadata": {
        "id": "Dgr4VU356jQs",
        "colab_type": "code",
        "colab": {}
      },
      "source": [
        "from Dataset import train_dataset"
      ],
      "execution_count": 0,
      "outputs": []
    },
    {
      "cell_type": "code",
      "metadata": {
        "id": "HzLHICR46lBi",
        "colab_type": "code",
        "colab": {}
      },
      "source": [
        "from torch.utils.data import DataLoader"
      ],
      "execution_count": 0,
      "outputs": []
    },
    {
      "cell_type": "code",
      "metadata": {
        "id": "iZ--hOms6m5l",
        "colab_type": "code",
        "colab": {}
      },
      "source": [
        "from Utils import *"
      ],
      "execution_count": 0,
      "outputs": []
    },
    {
      "cell_type": "code",
      "metadata": {
        "id": "jqDcvlRh6t-A",
        "colab_type": "code",
        "colab": {}
      },
      "source": [
        "import pandas as pd\n",
        "df=pd.read_csv('Data_Entry_2017.csv')\n"
      ],
      "execution_count": 0,
      "outputs": []
    },
    {
      "cell_type": "code",
      "metadata": {
        "id": "2N6B_m376vt-",
        "colab_type": "code",
        "colab": {}
      },
      "source": [
        "images=df['Image Index']\n",
        "labels=df['Finding Labels']"
      ],
      "execution_count": 0,
      "outputs": []
    },
    {
      "cell_type": "code",
      "metadata": {
        "id": "QIL2cxHN6xYK",
        "colab_type": "code",
        "colab": {}
      },
      "source": [
        "test_images=[]\n",
        "test_labels=[]"
      ],
      "execution_count": 0,
      "outputs": []
    },
    {
      "cell_type": "code",
      "metadata": {
        "id": "xdDlU9Ir6y78",
        "colab_type": "code",
        "colab": {}
      },
      "source": [
        "train_images=images[:4000]\n",
        "train_labels=labels[:4000]\n",
        "test_images[0:]=images[4000:]\n",
        "test_labels[0:]=labels[4000:]"
      ],
      "execution_count": 0,
      "outputs": []
    },
    {
      "cell_type": "code",
      "metadata": {
        "id": "sKwecT8L600o",
        "colab_type": "code",
        "colab": {}
      },
      "source": [
        "train_images,train_labels=get_existing_images('/content/drive/My Drive/images_001/images',train_images,train_labels)\n",
        "test_images,test_labels=get_existing_images('/content/drive/My Drive/images_001/images',test_images,test_labels)"
      ],
      "execution_count": 0,
      "outputs": []
    },
    {
      "cell_type": "code",
      "metadata": {
        "id": "Yai7LmCb622s",
        "colab_type": "code",
        "colab": {
          "base_uri": "https://localhost:8080/",
          "height": 35
        },
        "outputId": "e7948aa6-6ef8-49b7-aa31-9c7813dfe3ca"
      },
      "source": [
        "encoder=encode_labels(labels)"
      ],
      "execution_count": 12,
      "outputs": [
        {
          "output_type": "stream",
          "text": [
            "15\n"
          ],
          "name": "stdout"
        }
      ]
    },
    {
      "cell_type": "code",
      "metadata": {
        "id": "UCbI6jmf-gne",
        "colab_type": "code",
        "colab": {
          "base_uri": "https://localhost:8080/",
          "height": 35
        },
        "outputId": "a795aca6-33e7-464f-c203-6dba2b7cfc93"
      },
      "source": [
        "decoder={}\n",
        "for keys in encoder.keys():\n",
        "  decoder[encoder[keys]]=keys\n",
        "decoder[3]"
      ],
      "execution_count": 13,
      "outputs": [
        {
          "output_type": "execute_result",
          "data": {
            "text/plain": [
              "'No Finding'"
            ]
          },
          "metadata": {
            "tags": []
          },
          "execution_count": 13
        }
      ]
    },
    {
      "cell_type": "code",
      "metadata": {
        "id": "F3v8TNR764wO",
        "colab_type": "code",
        "colab": {}
      },
      "source": [
        "transform=image_transform(250,225)"
      ],
      "execution_count": 0,
      "outputs": []
    },
    {
      "cell_type": "code",
      "metadata": {
        "id": "2w9c5G2d68TU",
        "colab_type": "code",
        "colab": {}
      },
      "source": [
        "import torch\n",
        "import torchvision\n",
        "import numpy as np\n",
        "from torchvision import transforms,datasets\n",
        "from torch import nn,optim\n",
        "import torch.nn.functional as F\n",
        "from torch.utils.data import sampler\n",
        "from torch.utils.data.sampler import SubsetRandomSampler"
      ],
      "execution_count": 0,
      "outputs": []
    },
    {
      "cell_type": "code",
      "metadata": {
        "id": "ucEP1U4O6-Rn",
        "colab_type": "code",
        "colab": {}
      },
      "source": [
        "train_batch_size=100\n",
        "test_batch_size=10"
      ],
      "execution_count": 0,
      "outputs": []
    },
    {
      "cell_type": "code",
      "metadata": {
        "id": "mkwa8doW6_xM",
        "colab_type": "code",
        "colab": {}
      },
      "source": [
        "trainingset = train_dataset(Labels=train_labels,images=train_images ,encoder=encoder,dataset='/content/drive/My Drive/images_001/images',transform=transform)\n",
        "trainloader = DataLoader(trainingset,batch_size = train_batch_size,shuffle = True)\n",
        "testset = train_dataset(Labels=test_labels,images=test_images ,encoder=encoder,dataset='/content/drive/My Drive/images_001/images',transform=transform)\n",
        "testloader = DataLoader(testset,batch_size = test_batch_size,shuffle = True)\n"
      ],
      "execution_count": 0,
      "outputs": []
    },
    {
      "cell_type": "code",
      "metadata": {
        "id": "JBG70pg_7Bcd",
        "colab_type": "code",
        "colab": {
          "base_uri": "https://localhost:8080/",
          "height": 202
        },
        "outputId": "bf6639a9-f722-49da-f039-113a796d6577"
      },
      "source": [
        "!pip install tensorboardX --no-cache-dir"
      ],
      "execution_count": 18,
      "outputs": [
        {
          "output_type": "stream",
          "text": [
            "Collecting tensorboardX\n",
            "\u001b[?25l  Downloading https://files.pythonhosted.org/packages/35/f1/5843425495765c8c2dd0784a851a93ef204d314fc87bcc2bbb9f662a3ad1/tensorboardX-2.0-py2.py3-none-any.whl (195kB)\n",
            "\r\u001b[K     |█▊                              | 10kB 30.2MB/s eta 0:00:01\r\u001b[K     |███▍                            | 20kB 6.2MB/s eta 0:00:01\r\u001b[K     |█████                           | 30kB 7.2MB/s eta 0:00:01\r\u001b[K     |██████▊                         | 40kB 7.8MB/s eta 0:00:01\r\u001b[K     |████████▍                       | 51kB 6.9MB/s eta 0:00:01\r\u001b[K     |██████████                      | 61kB 7.3MB/s eta 0:00:01\r\u001b[K     |███████████▊                    | 71kB 8.0MB/s eta 0:00:01\r\u001b[K     |█████████████▍                  | 81kB 8.9MB/s eta 0:00:01\r\u001b[K     |███████████████                 | 92kB 8.1MB/s eta 0:00:01\r\u001b[K     |████████████████▊               | 102kB 8.1MB/s eta 0:00:01\r\u001b[K     |██████████████████▍             | 112kB 8.1MB/s eta 0:00:01\r\u001b[K     |████████████████████            | 122kB 8.1MB/s eta 0:00:01\r\u001b[K     |█████████████████████▊          | 133kB 8.1MB/s eta 0:00:01\r\u001b[K     |███████████████████████▌        | 143kB 8.1MB/s eta 0:00:01\r\u001b[K     |█████████████████████████▏      | 153kB 8.1MB/s eta 0:00:01\r\u001b[K     |██████████████████████████▉     | 163kB 8.1MB/s eta 0:00:01\r\u001b[K     |████████████████████████████▌   | 174kB 8.1MB/s eta 0:00:01\r\u001b[K     |██████████████████████████████▏ | 184kB 8.1MB/s eta 0:00:01\r\u001b[K     |███████████████████████████████▉| 194kB 8.1MB/s eta 0:00:01\r\u001b[K     |████████████████████████████████| 204kB 8.1MB/s \n",
            "\u001b[?25hRequirement already satisfied: protobuf>=3.8.0 in /usr/local/lib/python3.6/dist-packages (from tensorboardX) (3.10.0)\n",
            "Requirement already satisfied: numpy in /usr/local/lib/python3.6/dist-packages (from tensorboardX) (1.18.2)\n",
            "Requirement already satisfied: six in /usr/local/lib/python3.6/dist-packages (from tensorboardX) (1.12.0)\n",
            "Requirement already satisfied: setuptools in /usr/local/lib/python3.6/dist-packages (from protobuf>=3.8.0->tensorboardX) (46.1.3)\n",
            "Installing collected packages: tensorboardX\n",
            "Successfully installed tensorboardX-2.0\n"
          ],
          "name": "stdout"
        }
      ]
    },
    {
      "cell_type": "code",
      "metadata": {
        "id": "yOMV4PBA7DPI",
        "colab_type": "code",
        "colab": {}
      },
      "source": [
        "from tensorboardX import SummaryWriter\n",
        "writer = SummaryWriter()"
      ],
      "execution_count": 0,
      "outputs": []
    },
    {
      "cell_type": "code",
      "metadata": {
        "id": "tmee79jU7E4_",
        "colab_type": "code",
        "colab": {}
      },
      "source": [
        "N_epochs = 10\n",
        "model = Multialexnet()\n",
        "optimizer = torch.optim.Adam(model.parameters(),lr=0.001)"
      ],
      "execution_count": 0,
      "outputs": []
    },
    {
      "cell_type": "code",
      "metadata": {
        "id": "C1wsFUtnDOqE",
        "colab_type": "code",
        "colab": {}
      },
      "source": [
        "from glob import glob\n",
        "def get_most_recent_checkpoint(checkpoint_dir):\n",
        "    checkpoint_paths = [path for path in glob(\"{}/model_epoch_*.pth\".format(checkpoint_dir))]\n",
        "    idxes = [int(os.path.basename(path).split('_')[2].split('.')[0]) for path in checkpoint_paths]\n",
        "\n",
        "    max_idx = max(idxes)\n",
        "    latest_checkpoint = os.path.join(checkpoint_dir, \"model_epoch_{}.pth\".format(max_idx))\n",
        "    print(\" [*] Found latest checkpoint: {}\".format(latest_checkpoint))\n",
        "    return latest_checkpoint, max_idx"
      ],
      "execution_count": 0,
      "outputs": []
    },
    {
      "cell_type": "code",
      "metadata": {
        "id": "Ck2DdHSoDQhV",
        "colab_type": "code",
        "colab": {}
      },
      "source": [
        "\n",
        "def checkpoint(epoch):\n",
        "  model_out_path = \"/content/drive/My Drive/ckpt/\" + \"alexnet\" + \"/model_epoch_{}.pth\".format(epoch)\n",
        "  '''\n",
        "    Model Implementation\n",
        "    elif opt.model == \"Model_Name\":\n",
        "        model_out_path = \"ckpt/\" + \"Model_Name\" + \"/model_epoch_{}.pth\".format(epoch)\n",
        "  '''\n",
        "  print(model_out_path)\n",
        "  torch.save({\n",
        "            'model': model.state_dict(),\n",
        "            }, model_out_path)\n",
        "  print(\"Checkpoint saved to {}\".format(model_out_path))"
      ],
      "execution_count": 0,
      "outputs": []
    },
    {
      "cell_type": "code",
      "metadata": {
        "id": "uYFNwWFMBXRf",
        "colab_type": "code",
        "colab": {
          "base_uri": "https://localhost:8080/",
          "height": 54
        },
        "outputId": "acb1431a-416f-4d62-f6db-0cdb0deb0486"
      },
      "source": [
        "if len(next(os.walk('/content/drive/My Drive/ckpt/alexnet'))[2]) != 0:\n",
        "  \n",
        "  min_iter = 0\n",
        "  last_ckpt, min_iter = get_most_recent_checkpoint('/content/drive/My Drive/ckpt/alexnet')\n",
        "  min_iter=min_iter+1\n",
        "  print('Getting most recent checkpoint -------->')\n",
        "  checkpoint=torch.load(last_ckpt)\n",
        "  model.load_state_dict(checkpoint['model'])\n",
        "else:\n",
        "  min_iter=0"
      ],
      "execution_count": 23,
      "outputs": [
        {
          "output_type": "stream",
          "text": [
            " [*] Found latest checkpoint: /content/drive/My Drive/ckpt/alexnet/model_epoch_0.pth\n",
            "Getting most recent checkpoint -------->\n"
          ],
          "name": "stdout"
        }
      ]
    },
    {
      "cell_type": "code",
      "metadata": {
        "id": "rOO5KNm27GV7",
        "colab_type": "code",
        "colab": {}
      },
      "source": [
        "loss=nn.BCEWithLogitsLoss(reduction='mean') # loss function"
      ],
      "execution_count": 0,
      "outputs": []
    },
    {
      "cell_type": "code",
      "metadata": {
        "id": "qMpPRIxl7IB7",
        "colab_type": "code",
        "colab": {}
      },
      "source": [
        "device = torch.device(\"cuda\" if torch.cuda.is_available() else \"cpu\")"
      ],
      "execution_count": 0,
      "outputs": []
    },
    {
      "cell_type": "code",
      "metadata": {
        "id": "ers0tRU6_CBP",
        "colab_type": "code",
        "colab": {}
      },
      "source": [
        "model=model.to(device)"
      ],
      "execution_count": 0,
      "outputs": []
    },
    {
      "cell_type": "code",
      "metadata": {
        "id": "X5ylfgZ6_Dis",
        "colab_type": "code",
        "colab": {}
      },
      "source": [
        "def accuracy_evaluator(pred_labels, true_labels):\n",
        "    pred_labels = torch.ByteTensor(pred_labels)\n",
        "    true_labels = torch.ByteTensor(true_labels)\n",
        "\n",
        "    assert 1 >= pred_labels.all() >= 0\n",
        "    assert 1 >= true_labels.all() >= 0\n",
        "\n",
        "    # True Positive (TP): we predict a label of 1 (positive), and the true label is 1.\n",
        "    TP = torch.sum((pred_labels >= 0.7) & ((true_labels == 1)))\n",
        "\n",
        "    # True Negative (TN): we predict a label of 0 (negative), and the true label is 0.\n",
        "    TN = torch.sum((pred_labels < 0.7) & (true_labels == 0))\n",
        "\n",
        "    # False Positive (FP): we predict a label of 1 (positive), but the true label is 0.\n",
        "    FP = torch.sum((pred_labels >= 0.7) & (true_labels == 0))\n",
        "\n",
        "    # False Negative (FN): we predict a label of 0 (negative), but the true label is 1.\n",
        "    FN = torch.sum((pred_labels < 0.7) & (true_labels == 1))\n",
        "    return TP+TN-FP-FN"
      ],
      "execution_count": 0,
      "outputs": []
    },
    {
      "cell_type": "code",
      "metadata": {
        "id": "N_UjJrJ3_FuP",
        "colab_type": "code",
        "colab": {
          "base_uri": "https://localhost:8080/",
          "height": 678
        },
        "outputId": "c0528a01-e5eb-4457-8908-aeda572a57f2"
      },
      "source": [
        "for epoch in range(min_iter, N_epochs + 1):\n",
        "  total_loss=0\n",
        "  for k,batch in enumerate(trainloader):\n",
        "    optimizer.zero_grad()\n",
        "    img = batch['img']\n",
        "    img=img.to(device)\n",
        "    target_labels = batch['labels']\n",
        "    output = model(img)\n",
        "    loss_type=loss(output['Type'].to(device),target_labels['Type'].to(device))\n",
        "    loss_target=loss(output['targets'].to(device),target_labels['targets'].to(device))\n",
        "    curr_loss= loss_type.item()+loss_target.item()\n",
        "    total_loss+=curr_loss\n",
        "    loss_type.backward(retain_graph=True)\n",
        "    loss_target.backward()\n",
        "    optimizer.step()\n",
        "    writer.add_scalar('Multi Class Loss',loss_type.item())\n",
        "    writer.add_scalar('Multi Label Loss',loss_target.item())\n",
        "    print('completed batch',k+1,' Total number of batches : ',len(trainloader),' Class Loss = ',loss_type.item(),'Label Loss = ',loss_target.item())\n",
        "  print('Done for epoch ',epoch+1)\n",
        "  print('loss for epoch = ',total_loss/len(trainloader))\n",
        "  checkpoint(epoch)\n",
        "  testloss_type=0\n",
        "  testloss_target=0\n",
        "  accuracy_for_type=0\n",
        "  accuracy_for_target=0\n",
        "  for k,batch in enumerate(testloader):\n",
        "    img=batch['img']\n",
        "    img=img.to(device)\n",
        "    target_labels=batch['labels']\n",
        "    output=model(img)\n",
        "    loss_type=loss(output['Type'].to(device),target_labels['Type'].to(device))\n",
        "    loss_target=loss(output['targets'].to(device),target_labels['targets'].to(device))\n",
        "    testloss_type+= loss_type.item()\n",
        "    testloss_target+=loss_target.item()\n",
        "    accuracy_for_type+=accuracy_evaluator(output['Type'],target_labels['Type'])/test_batch_size\n",
        "    accuracy_for_target+=accuracy_evaluator(output['targets'],target_labels['targets'])/test_batch_size\n",
        "  print('Accuracy for Normal/Abnormal Class : ',accuracy_for_type/(len(testloader)))\n",
        "  print('Accuracy for Labels : ',accuracy_for_target/len(testloader))\n"
      ],
      "execution_count": 0,
      "outputs": [
        {
          "output_type": "stream",
          "text": [
            "completed batch 1  Total number of batches :  40  Class Loss =  0.6937249302864075 Label Loss =  0.6928733587265015\n",
            "completed batch 2  Total number of batches :  40  Class Loss =  1.6604646444320679 Label Loss =  0.35694995522499084\n",
            "completed batch 3  Total number of batches :  40  Class Loss =  0.7220773696899414 Label Loss =  0.6229451894760132\n",
            "completed batch 4  Total number of batches :  40  Class Loss =  0.7798917293548584 Label Loss =  0.600454568862915\n",
            "completed batch 5  Total number of batches :  40  Class Loss =  0.701837420463562 Label Loss =  0.6341366171836853\n",
            "completed batch 6  Total number of batches :  40  Class Loss =  0.7629998326301575 Label Loss =  0.6007647514343262\n",
            "completed batch 7  Total number of batches :  40  Class Loss =  0.7181496024131775 Label Loss =  0.6104649305343628\n",
            "completed batch 8  Total number of batches :  40  Class Loss =  0.6920040845870972 Label Loss =  0.5554552674293518\n",
            "completed batch 9  Total number of batches :  40  Class Loss =  1.0489695072174072 Label Loss =  0.31527140736579895\n",
            "completed batch 10  Total number of batches :  40  Class Loss =  0.7065966725349426 Label Loss =  0.43564504384994507\n",
            "completed batch 11  Total number of batches :  40  Class Loss =  0.6911474466323853 Label Loss =  0.4435586631298065\n",
            "completed batch 12  Total number of batches :  40  Class Loss =  0.7130550146102905 Label Loss =  0.38269713521003723\n",
            "completed batch 13  Total number of batches :  40  Class Loss =  0.7243606448173523 Label Loss =  0.2504485547542572\n",
            "completed batch 14  Total number of batches :  40  Class Loss =  0.7540005445480347 Label Loss =  0.3080671429634094\n",
            "completed batch 15  Total number of batches :  40  Class Loss =  0.7303623557090759 Label Loss =  0.25558120012283325\n",
            "completed batch 16  Total number of batches :  40  Class Loss =  0.7226821780204773 Label Loss =  0.24091412127017975\n",
            "completed batch 17  Total number of batches :  40  Class Loss =  0.7177099585533142 Label Loss =  0.2351803332567215\n",
            "completed batch 18  Total number of batches :  40  Class Loss =  0.690700352191925 Label Loss =  0.23631994426250458\n",
            "completed batch 19  Total number of batches :  40  Class Loss =  0.7136460542678833 Label Loss =  0.20665587484836578\n",
            "completed batch 20  Total number of batches :  40  Class Loss =  0.6961863040924072 Label Loss =  0.22156263887882233\n",
            "completed batch 21  Total number of batches :  40  Class Loss =  0.6721507906913757 Label Loss =  0.1965247541666031\n",
            "completed batch 22  Total number of batches :  40  Class Loss =  0.688111424446106 Label Loss =  0.21156556904315948\n",
            "completed batch 23  Total number of batches :  40  Class Loss =  0.7318560481071472 Label Loss =  0.24299131333827972\n",
            "completed batch 24  Total number of batches :  40  Class Loss =  0.736298680305481 Label Loss =  0.24012625217437744\n",
            "completed batch 25  Total number of batches :  40  Class Loss =  0.6862062811851501 Label Loss =  0.2286868840456009\n",
            "completed batch 26  Total number of batches :  40  Class Loss =  0.6915998458862305 Label Loss =  0.23185843229293823\n",
            "completed batch 27  Total number of batches :  40  Class Loss =  0.6822580099105835 Label Loss =  0.20869311690330505\n",
            "completed batch 28  Total number of batches :  40  Class Loss =  0.6947820782661438 Label Loss =  0.22122928500175476\n",
            "completed batch 29  Total number of batches :  40  Class Loss =  0.6917498707771301 Label Loss =  0.24983739852905273\n",
            "completed batch 30  Total number of batches :  40  Class Loss =  0.6915749907493591 Label Loss =  0.2392612099647522\n",
            "completed batch 31  Total number of batches :  40  Class Loss =  0.7300601005554199 Label Loss =  0.16466300189495087\n",
            "completed batch 32  Total number of batches :  40  Class Loss =  0.7080051302909851 Label Loss =  0.20912568271160126\n",
            "completed batch 33  Total number of batches :  40  Class Loss =  0.6929672360420227 Label Loss =  0.20199573040008545\n",
            "completed batch 34  Total number of batches :  40  Class Loss =  0.6836232542991638 Label Loss =  0.19877174496650696\n",
            "completed batch 35  Total number of batches :  40  Class Loss =  0.6961694359779358 Label Loss =  0.22302265465259552\n",
            "completed batch 36  Total number of batches :  40  Class Loss =  0.6656796932220459 Label Loss =  0.18014931678771973\n"
          ],
          "name": "stdout"
        }
      ]
    },
    {
      "cell_type": "code",
      "metadata": {
        "id": "Uo9W7-5h_HlZ",
        "colab_type": "code",
        "colab": {}
      },
      "source": [
        ""
      ],
      "execution_count": 0,
      "outputs": []
    }
  ]
}